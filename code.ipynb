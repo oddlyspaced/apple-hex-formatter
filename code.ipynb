{
 "cells": [
  {
   "cell_type": "markdown",
   "metadata": {},
   "source": [
    "Loading data lines"
   ]
  },
  {
   "cell_type": "code",
   "execution_count": 1,
   "metadata": {},
   "outputs": [
    {
     "ename": "FileNotFoundError",
     "evalue": "[Errno 2] No such file or directory: 'anc_formatted'",
     "output_type": "error",
     "traceback": [
      "\u001b[0;31m---------------------------------------------------------------------------\u001b[0m",
      "\u001b[0;31mFileNotFoundError\u001b[0m                         Traceback (most recent call last)",
      "\u001b[1;32m/Users/hardik/Projects/Dump/HexFormatter/code.ipynb Cell 2\u001b[0m in \u001b[0;36m<cell line: 1>\u001b[0;34m()\u001b[0m\n\u001b[0;32m----> <a href='vscode-notebook-cell:/Users/hardik/Projects/Dump/HexFormatter/code.ipynb#W2sZmlsZQ%3D%3D?line=0'>1</a>\u001b[0m f \u001b[39m=\u001b[39m \u001b[39mopen\u001b[39;49m(\u001b[39m\"\u001b[39;49m\u001b[39manc_formatted\u001b[39;49m\u001b[39m\"\u001b[39;49m, \u001b[39m\"\u001b[39;49m\u001b[39mr\u001b[39;49m\u001b[39m\"\u001b[39;49m)\n\u001b[1;32m      <a href='vscode-notebook-cell:/Users/hardik/Projects/Dump/HexFormatter/code.ipynb#W2sZmlsZQ%3D%3D?line=1'>2</a>\u001b[0m lines \u001b[39m=\u001b[39m f\u001b[39m.\u001b[39mreadlines()\n\u001b[1;32m      <a href='vscode-notebook-cell:/Users/hardik/Projects/Dump/HexFormatter/code.ipynb#W2sZmlsZQ%3D%3D?line=2'>3</a>\u001b[0m f\u001b[39m.\u001b[39mclose()\n",
      "\u001b[0;31mFileNotFoundError\u001b[0m: [Errno 2] No such file or directory: 'anc_formatted'"
     ]
    }
   ],
   "source": [
    "f = open(\"raw/anc_formatted\", \"r\")\n",
    "lines = f.readlines()\n",
    "f.close()"
   ]
  },
  {
   "cell_type": "markdown",
   "metadata": {},
   "source": [
    "Formatting only hex part"
   ]
  },
  {
   "cell_type": "code",
   "execution_count": null,
   "metadata": {},
   "outputs": [],
   "source": [
    "formatted_lines = []\n",
    "for line in lines:\n",
    "    formatted_lines.append(line[30:].strip())"
   ]
  },
  {
   "cell_type": "code",
   "execution_count": null,
   "metadata": {},
   "outputs": [
    {
     "data": {
      "text/plain": [
       "['0719010E200B998F010004E52C14BE47872C4AEEBAC49FB767A01E',\n",
       " '0719010E200B888F0000042AD6E423A5F2EEBAEF20BA0C7BAE3B45',\n",
       " '0719010E200B998F010004D066BE47AFA6DBF0549ABCAD859F0DD5',\n",
       " '0719010E200B888F0000042AD6E423A5F2EEBAEF20BA0C7BAE3B45',\n",
       " '0719010E200B998F010004E52C14BE47872C4AEEBAC49FB767A01E',\n",
       " '0719010E200B888F0000042AD6E423A5F2EEBAEF20BA0C7BAE3B45',\n",
       " '0719010E200B998F010004D066BE47AFA6DBF0549ABCAD859F0DD5',\n",
       " '0719010E200B888F0000042AD6E423A5F2EEBAEF20BA0C7BAE3B45',\n",
       " '0719010E200B998F010004D066BE47AFA6DBF0549ABCAD859F0DD5',\n",
       " '0719010E200B998F010004D066BE47AFA6DBF0549ABCAD859F0DD5',\n",
       " '0719010E200B888F0000042AD6E423A5F2EEBAEF20BA0C7BAE3B45',\n",
       " '0719010E200B998F010004D066BE47AFA6DBF0549ABCAD859F0DD5',\n",
       " '0719010E200B888F0000042AD6E423A5F2EEBAEF20BA0C7BAE3B45',\n",
       " '0719010E200B998F010004D066BE47AFA6DBF0549ABCAD859F0DD5',\n",
       " '0719010E200B888F0000042AD6E423A5F2EEBAEF20BA0C7BAE3B45',\n",
       " '0719010E200B888F0000055038DFF3D163FC28E28F6A7BD10E8E44',\n",
       " '0719010E200B998F010004D066BE47AFA6DBF0549ABCAD859F0DD5',\n",
       " '0719010E200B888F0000042AD6E423A5F2EEBAEF20BA0C7BAE3B45',\n",
       " '0719010E200B888F0000059B7CD77B1FD27641CFFC6C225E139605',\n",
       " '0719010E200B888F000004323F6A02FCE65BAD123E706F8B79CD09',\n",
       " '0719010E200B888F000005D4B930E4428DE7D988E90602E6311436',\n",
       " '0719010E200B888F00000466C78FC81F35442A32B23C26E563802B',\n",
       " '0719010E200B998F010004D066BE47AFA6DBF0549ABCAD859F0DD5',\n",
       " '0719010E200B998F010004D066BE47AFA6DBF0549ABCAD859F0DD5',\n",
       " '0719010E200B888F0000059B7CD77B1FD27641CFFC6C225E139605',\n",
       " '0719010E200B888F000005715A460E5D94D6C7F6B1DB9B19F940B0',\n",
       " '0719010E200B888F00000416486A81416B03E0B169B9E90AD9F330',\n",
       " '0719010E200B998F010004D066BE47AFA6DBF0549ABCAD859F0DD5',\n",
       " '0719010E200B888F0000059B7CD77B1FD27641CFFC6C225E139605',\n",
       " '0719010E200B998F010004D066BE47AFA6DBF0549ABCAD859F0DD5',\n",
       " '0719010E200B888F000005715A460E5D94D6C7F6B1DB9B19F940B0',\n",
       " '0719010E200B998F010004D066BE47AFA6DBF0549ABCAD859F0DD5',\n",
       " '0719010E200B888F0000049F2A003713616C097612FA4398A70117',\n",
       " '0719010E200B888F000005715A460E5D94D6C7F6B1DB9B19F940B0']"
      ]
     },
     "execution_count": 8,
     "metadata": {},
     "output_type": "execute_result"
    }
   ],
   "source": [
    "formatted_lines"
   ]
  },
  {
   "cell_type": "markdown",
   "metadata": {},
   "source": []
  }
 ],
 "metadata": {
  "kernelspec": {
   "display_name": "Python 3.9.13 ('base')",
   "language": "python",
   "name": "python3"
  },
  "language_info": {
   "codemirror_mode": {
    "name": "ipython",
    "version": 3
   },
   "file_extension": ".py",
   "mimetype": "text/x-python",
   "name": "python",
   "nbconvert_exporter": "python",
   "pygments_lexer": "ipython3",
   "version": "3.9.13"
  },
  "orig_nbformat": 4,
  "vscode": {
   "interpreter": {
    "hash": "38cca0c38332a56087b24af0bc80247f4fced29cb4f7f437d91dc159adec9c4e"
   }
  }
 },
 "nbformat": 4,
 "nbformat_minor": 2
}
